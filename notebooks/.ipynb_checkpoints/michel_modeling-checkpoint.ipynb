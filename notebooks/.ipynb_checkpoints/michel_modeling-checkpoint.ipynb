{
 "cells": [
  {
   "cell_type": "markdown",
   "id": "567435c0-62c9-4952-9def-90903962abab",
   "metadata": {},
   "source": [
    "# Modeling for garbage classification"
   ]
  },
  {
   "cell_type": "markdown",
   "id": "30afaef5-25db-488f-8069-c255c2ca5453",
   "metadata": {},
   "source": [
    "## Model VGG16"
   ]
  },
  {
   "cell_type": "markdown",
   "id": "cd375d32-9080-4bfc-93de-90e012680a0e",
   "metadata": {},
   "source": [
    "For the garbage classification, we choose to classify the garbage with the VGG16 model which is a famous CNN model used for image classification"
   ]
  },
  {
   "cell_type": "code",
   "execution_count": 1,
   "id": "18bcf893-2799-4c88-878c-d31e9628553c",
   "metadata": {},
   "outputs": [],
   "source": [
    "%load_ext autoreload\n",
    "%autoreload 2"
   ]
  },
  {
   "cell_type": "markdown",
   "id": "e431e699-ebf5-4221-bc51-611ac3b2a566",
   "metadata": {},
   "source": [
    "### Data"
   ]
  },
  {
   "cell_type": "code",
   "execution_count": 2,
   "id": "30415a76-4fff-4597-8ff3-072e59da33e6",
   "metadata": {},
   "outputs": [
    {
     "data": {
      "text/plain": [
       "'/Users/walkyz/code/kirianpg/waste_sorter_smart_bin/notebooks'"
      ]
     },
     "execution_count": 2,
     "metadata": {},
     "output_type": "execute_result"
    }
   ],
   "source": [
    "%pwd"
   ]
  },
  {
   "cell_type": "code",
   "execution_count": 3,
   "id": "0a734210-97cc-435d-b3c2-22aff43ee56f",
   "metadata": {},
   "outputs": [
    {
     "name": "stdout",
     "output_type": "stream",
     "text": [
      "2.10.0\n"
     ]
    }
   ],
   "source": [
    "import tensorflow as tf\n",
    "print(tf.__version__)"
   ]
  },
  {
   "cell_type": "code",
   "execution_count": 67,
   "id": "54f37c80-bdd3-4b4a-8a7f-a6981cabc366",
   "metadata": {},
   "outputs": [],
   "source": [
    "from tensorflow.keras.utils import to_categorical\n",
    "from tqdm import tqdm\n",
    "import numpy as np\n",
    "import os\n",
    "from PIL import Image\n",
    "\n",
    "def load_flowers_data():\n",
    "    data_path = '../data/raw_data/kaggle_data/Garbage classification/Garbage classification'\n",
    "    classes = {\n",
    "        'trash': 0,\n",
    "        'glass': 1,\n",
    "        'paper': 2,\n",
    "        'cardboard': 3,\n",
    "        'plastic': 4,\n",
    "        'metal': 5}\n",
    "    \n",
    "    imgs = []\n",
    "    labels = []\n",
    "    for (cl, i) in classes.items():\n",
    "        images_path = [elt for elt in os.listdir(os.path.join(data_path, cl)) if elt.find('.jpg')>0]\n",
    "        for img in tqdm(images_path[:300]):\n",
    "            path = os.path.join(data_path, cl, img)\n",
    "            if os.path.exists(path):\n",
    "                image = Image.open(path)\n",
    "                image = image.resize((224, 224))\n",
    "                imgs.append(np.array(image))\n",
    "                labels.append(i)\n",
    "\n",
    "    X = np.array(imgs)\n",
    "    num_classes = len(set(labels))\n",
    "    y = to_categorical(labels, num_classes)\n",
    "\n",
    "    # Finally we shuffle:\n",
    "    p = np.random.permutation(len(X))\n",
    "    X, y = X[p], y[p]\n",
    "\n",
    "    first_split = int(len(imgs) /6.)\n",
    "    second_split = first_split + int(len(imgs) * 0.2)\n",
    "    X_test, X_val, X_train = X[:first_split], X[first_split:second_split], X[second_split:]\n",
    "    y_test, y_val, y_train = y[:first_split], y[first_split:second_split], y[second_split:]\n",
    "\n",
    "    return X_train, y_train, X_val, y_val, X_test, y_test, num_classes"
   ]
  },
  {
   "cell_type": "code",
   "execution_count": 5,
   "id": "95950efe-7945-4eb5-8045-1dc2397e39a4",
   "metadata": {},
   "outputs": [
    {
     "name": "stderr",
     "output_type": "stream",
     "text": [
      "100%|████████████████████████████████████████| 137/137 [00:00<00:00, 371.16it/s]\n",
      "100%|████████████████████████████████████████| 300/300 [00:00<00:00, 375.32it/s]\n",
      "100%|████████████████████████████████████████| 300/300 [00:00<00:00, 361.42it/s]\n",
      "100%|████████████████████████████████████████| 300/300 [00:00<00:00, 366.21it/s]\n",
      "100%|████████████████████████████████████████| 300/300 [00:00<00:00, 380.89it/s]\n",
      "100%|████████████████████████████████████████| 300/300 [00:00<00:00, 373.56it/s]\n"
     ]
    }
   ],
   "source": [
    "# CALL load_flowers_data WITH YOUR PREFERRED METHOD HERE\n",
    "X_train, y_train, X_val, y_val, X_test, y_test, num_classes = load_flowers_data()"
   ]
  },
  {
   "cell_type": "code",
   "execution_count": 6,
   "id": "9db91ee2-2577-49a2-9801-eb5d2b73d054",
   "metadata": {},
   "outputs": [
    {
     "data": {
      "text/plain": [
       "array([[[[214, 189, 159],\n",
       "         [217, 192, 162],\n",
       "         [222, 197, 167],\n",
       "         ...,\n",
       "         [ 98,  87,  75],\n",
       "         [ 85,  73,  61],\n",
       "         [ 61,  49,  37]],\n",
       "\n",
       "        [[216, 191, 161],\n",
       "         [217, 192, 162],\n",
       "         [216, 191, 161],\n",
       "         ...,\n",
       "         [ 99,  87,  75],\n",
       "         [ 96,  83,  71],\n",
       "         [ 69,  57,  45]],\n",
       "\n",
       "        [[216, 191, 161],\n",
       "         [219, 194, 164],\n",
       "         [215, 190, 160],\n",
       "         ...,\n",
       "         [103,  92,  80],\n",
       "         [102,  90,  78],\n",
       "         [ 84,  72,  60]],\n",
       "\n",
       "        ...,\n",
       "\n",
       "        [[208, 182, 155],\n",
       "         [211, 185, 158],\n",
       "         [215, 189, 162],\n",
       "         ...,\n",
       "         [126, 106,  81],\n",
       "         [123, 103,  78],\n",
       "         [120, 100,  75]],\n",
       "\n",
       "        [[207, 181, 154],\n",
       "         [215, 189, 162],\n",
       "         [221, 195, 168],\n",
       "         ...,\n",
       "         [127, 107,  82],\n",
       "         [125, 105,  80],\n",
       "         [121, 101,  76]],\n",
       "\n",
       "        [[207, 181, 154],\n",
       "         [215, 189, 162],\n",
       "         [221, 195, 168],\n",
       "         ...,\n",
       "         [127, 107,  82],\n",
       "         [124, 104,  79],\n",
       "         [119,  99,  74]]],\n",
       "\n",
       "\n",
       "       [[[223, 222, 236],\n",
       "         [222, 221, 235],\n",
       "         [221, 220, 234],\n",
       "         ...,\n",
       "         [166, 166, 176],\n",
       "         [165, 165, 175],\n",
       "         [164, 164, 174]],\n",
       "\n",
       "        [[223, 222, 236],\n",
       "         [222, 221, 235],\n",
       "         [221, 220, 234],\n",
       "         ...,\n",
       "         [166, 166, 176],\n",
       "         [165, 165, 175],\n",
       "         [165, 165, 175]],\n",
       "\n",
       "        [[223, 222, 236],\n",
       "         [222, 221, 235],\n",
       "         [221, 220, 234],\n",
       "         ...,\n",
       "         [167, 167, 177],\n",
       "         [166, 166, 176],\n",
       "         [165, 165, 175]],\n",
       "\n",
       "        ...,\n",
       "\n",
       "        [[211, 213, 226],\n",
       "         [211, 213, 226],\n",
       "         [210, 212, 225],\n",
       "         ...,\n",
       "         [150, 152, 164],\n",
       "         [149, 151, 163],\n",
       "         [148, 150, 162]],\n",
       "\n",
       "        [[211, 213, 226],\n",
       "         [211, 213, 226],\n",
       "         [210, 212, 225],\n",
       "         ...,\n",
       "         [150, 152, 164],\n",
       "         [149, 151, 163],\n",
       "         [148, 150, 162]],\n",
       "\n",
       "        [[211, 213, 226],\n",
       "         [211, 213, 226],\n",
       "         [210, 212, 225],\n",
       "         ...,\n",
       "         [150, 152, 164],\n",
       "         [149, 151, 163],\n",
       "         [148, 150, 162]]],\n",
       "\n",
       "\n",
       "       [[[255, 232, 186],\n",
       "         [255, 232, 186],\n",
       "         [255, 232, 186],\n",
       "         ...,\n",
       "         [ 16,  33,  51],\n",
       "         [ 16,  33,  51],\n",
       "         [ 16,  33,  51]],\n",
       "\n",
       "        [[255, 232, 186],\n",
       "         [255, 232, 186],\n",
       "         [255, 232, 186],\n",
       "         ...,\n",
       "         [ 16,  33,  51],\n",
       "         [ 16,  33,  51],\n",
       "         [ 16,  33,  51]],\n",
       "\n",
       "        [[255, 232, 186],\n",
       "         [255, 232, 186],\n",
       "         [255, 232, 186],\n",
       "         ...,\n",
       "         [ 16,  33,  51],\n",
       "         [ 16,  33,  51],\n",
       "         [ 16,  33,  51]],\n",
       "\n",
       "        ...,\n",
       "\n",
       "        [[165, 168,  72],\n",
       "         [190, 193, 100],\n",
       "         [208, 210, 123],\n",
       "         ...,\n",
       "         [ 17,  30,  47],\n",
       "         [ 16,  29,  46],\n",
       "         [ 14,  27,  44]],\n",
       "\n",
       "        [[197, 190, 111],\n",
       "         [217, 208, 133],\n",
       "         [235, 222, 151],\n",
       "         ...,\n",
       "         [ 17,  30,  47],\n",
       "         [ 16,  29,  46],\n",
       "         [ 14,  27,  44]],\n",
       "\n",
       "        [[229, 209, 150],\n",
       "         [242, 218, 160],\n",
       "         [252, 223, 167],\n",
       "         ...,\n",
       "         [ 17,  30,  47],\n",
       "         [ 16,  29,  46],\n",
       "         [ 14,  27,  44]]],\n",
       "\n",
       "\n",
       "       ...,\n",
       "\n",
       "\n",
       "       [[[245, 226, 219],\n",
       "         [245, 226, 219],\n",
       "         [245, 226, 219],\n",
       "         ...,\n",
       "         [180, 184, 193],\n",
       "         [180, 184, 193],\n",
       "         [180, 184, 193]],\n",
       "\n",
       "        [[245, 226, 219],\n",
       "         [245, 226, 219],\n",
       "         [245, 226, 219],\n",
       "         ...,\n",
       "         [180, 184, 193],\n",
       "         [180, 184, 193],\n",
       "         [180, 184, 193]],\n",
       "\n",
       "        [[245, 226, 219],\n",
       "         [245, 226, 219],\n",
       "         [245, 226, 219],\n",
       "         ...,\n",
       "         [180, 184, 193],\n",
       "         [180, 184, 193],\n",
       "         [180, 184, 193]],\n",
       "\n",
       "        ...,\n",
       "\n",
       "        [[195, 211, 224],\n",
       "         [194, 210, 223],\n",
       "         [193, 209, 222],\n",
       "         ...,\n",
       "         [177, 195, 207],\n",
       "         [176, 194, 206],\n",
       "         [175, 193, 205]],\n",
       "\n",
       "        [[195, 211, 224],\n",
       "         [194, 210, 223],\n",
       "         [193, 209, 222],\n",
       "         ...,\n",
       "         [177, 195, 207],\n",
       "         [176, 194, 206],\n",
       "         [175, 193, 205]],\n",
       "\n",
       "        [[195, 211, 224],\n",
       "         [194, 210, 223],\n",
       "         [193, 209, 222],\n",
       "         ...,\n",
       "         [177, 195, 207],\n",
       "         [176, 194, 206],\n",
       "         [175, 193, 205]]],\n",
       "\n",
       "\n",
       "       [[[232, 233, 237],\n",
       "         [231, 232, 236],\n",
       "         [230, 231, 235],\n",
       "         ...,\n",
       "         [166, 166, 168],\n",
       "         [165, 165, 167],\n",
       "         [164, 164, 166]],\n",
       "\n",
       "        [[231, 232, 236],\n",
       "         [231, 232, 236],\n",
       "         [230, 231, 235],\n",
       "         ...,\n",
       "         [166, 166, 168],\n",
       "         [165, 165, 167],\n",
       "         [164, 164, 166]],\n",
       "\n",
       "        [[231, 232, 236],\n",
       "         [230, 231, 235],\n",
       "         [229, 230, 234],\n",
       "         ...,\n",
       "         [166, 166, 168],\n",
       "         [165, 165, 167],\n",
       "         [164, 164, 166]],\n",
       "\n",
       "        ...,\n",
       "\n",
       "        [[169, 166, 161],\n",
       "         [168, 165, 160],\n",
       "         [167, 164, 159],\n",
       "         ...,\n",
       "         [127, 126, 122],\n",
       "         [126, 125, 121],\n",
       "         [125, 124, 120]],\n",
       "\n",
       "        [[169, 166, 161],\n",
       "         [169, 166, 161],\n",
       "         [168, 165, 160],\n",
       "         ...,\n",
       "         [127, 126, 122],\n",
       "         [126, 125, 121],\n",
       "         [125, 124, 120]],\n",
       "\n",
       "        [[170, 167, 162],\n",
       "         [169, 166, 161],\n",
       "         [168, 165, 160],\n",
       "         ...,\n",
       "         [127, 126, 122],\n",
       "         [126, 125, 121],\n",
       "         [125, 124, 120]]],\n",
       "\n",
       "\n",
       "       [[[254, 205, 200],\n",
       "         [254, 205, 200],\n",
       "         [254, 205, 200],\n",
       "         ...,\n",
       "         [248, 180, 167],\n",
       "         [248, 180, 167],\n",
       "         [248, 180, 167]],\n",
       "\n",
       "        [[254, 205, 200],\n",
       "         [254, 205, 200],\n",
       "         [254, 205, 200],\n",
       "         ...,\n",
       "         [248, 180, 167],\n",
       "         [248, 180, 167],\n",
       "         [248, 180, 167]],\n",
       "\n",
       "        [[254, 205, 200],\n",
       "         [254, 205, 200],\n",
       "         [254, 205, 200],\n",
       "         ...,\n",
       "         [248, 180, 167],\n",
       "         [248, 180, 167],\n",
       "         [248, 180, 167]],\n",
       "\n",
       "        ...,\n",
       "\n",
       "        [[248, 202, 202],\n",
       "         [248, 202, 202],\n",
       "         [248, 202, 202],\n",
       "         ...,\n",
       "         [153, 163, 173],\n",
       "         [152, 162, 172],\n",
       "         [151, 161, 171]],\n",
       "\n",
       "        [[247, 201, 201],\n",
       "         [247, 201, 201],\n",
       "         [247, 201, 201],\n",
       "         ...,\n",
       "         [153, 163, 173],\n",
       "         [152, 162, 172],\n",
       "         [151, 161, 171]],\n",
       "\n",
       "        [[247, 201, 201],\n",
       "         [247, 201, 201],\n",
       "         [247, 201, 201],\n",
       "         ...,\n",
       "         [153, 163, 173],\n",
       "         [152, 162, 172],\n",
       "         [151, 161, 171]]]], dtype=uint8)"
      ]
     },
     "execution_count": 6,
     "metadata": {},
     "output_type": "execute_result"
    }
   ],
   "source": [
    "X_train"
   ]
  },
  {
   "cell_type": "markdown",
   "id": "23b7f8c4-4d44-4089-a812-af02feead90b",
   "metadata": {},
   "source": [
    "### Initialize the model"
   ]
  },
  {
   "cell_type": "code",
   "execution_count": 45,
   "id": "60137a81-0401-40ce-8c21-ad98529bb5af",
   "metadata": {},
   "outputs": [],
   "source": [
    "from tensorflow.keras.applications import VGG16\n",
    "from tensorflow.keras import models, layers, optimizers, regularizers\n",
    "from tensorflow.keras.models import Sequential"
   ]
  },
  {
   "cell_type": "code",
   "execution_count": 8,
   "id": "857311d2-ef8f-4130-b9e8-b8549d7eff1f",
   "metadata": {},
   "outputs": [],
   "source": [
    "def load_model_VGG16():\n",
    "\n",
    "    model = VGG16(\n",
    "    include_top=False,\n",
    "    weights='imagenet',\n",
    "    input_tensor=None,\n",
    "    input_shape=(224, 224, 3),\n",
    "    pooling=None,\n",
    "    classes=1000,\n",
    "    classifier_activation='softmax'\n",
    "    )\n",
    "\n",
    "    return model"
   ]
  },
  {
   "cell_type": "code",
   "execution_count": 9,
   "id": "e19e8804-7841-4595-9df6-4e509a1761de",
   "metadata": {},
   "outputs": [],
   "source": [
    "model_VGG16 = load_model_VGG16()"
   ]
  },
  {
   "cell_type": "code",
   "execution_count": 10,
   "id": "844c5b74-2fa2-4466-9cb0-91f002243f67",
   "metadata": {},
   "outputs": [
    {
     "name": "stdout",
     "output_type": "stream",
     "text": [
      "Model: \"vgg16\"\n",
      "_________________________________________________________________\n",
      " Layer (type)                Output Shape              Param #   \n",
      "=================================================================\n",
      " input_1 (InputLayer)        [(None, 224, 224, 3)]     0         \n",
      "                                                                 \n",
      " block1_conv1 (Conv2D)       (None, 224, 224, 64)      1792      \n",
      "                                                                 \n",
      " block1_conv2 (Conv2D)       (None, 224, 224, 64)      36928     \n",
      "                                                                 \n",
      " block1_pool (MaxPooling2D)  (None, 112, 112, 64)      0         \n",
      "                                                                 \n",
      " block2_conv1 (Conv2D)       (None, 112, 112, 128)     73856     \n",
      "                                                                 \n",
      " block2_conv2 (Conv2D)       (None, 112, 112, 128)     147584    \n",
      "                                                                 \n",
      " block2_pool (MaxPooling2D)  (None, 56, 56, 128)       0         \n",
      "                                                                 \n",
      " block3_conv1 (Conv2D)       (None, 56, 56, 256)       295168    \n",
      "                                                                 \n",
      " block3_conv2 (Conv2D)       (None, 56, 56, 256)       590080    \n",
      "                                                                 \n",
      " block3_conv3 (Conv2D)       (None, 56, 56, 256)       590080    \n",
      "                                                                 \n",
      " block3_pool (MaxPooling2D)  (None, 28, 28, 256)       0         \n",
      "                                                                 \n",
      " block4_conv1 (Conv2D)       (None, 28, 28, 512)       1180160   \n",
      "                                                                 \n",
      " block4_conv2 (Conv2D)       (None, 28, 28, 512)       2359808   \n",
      "                                                                 \n",
      " block4_conv3 (Conv2D)       (None, 28, 28, 512)       2359808   \n",
      "                                                                 \n",
      " block4_pool (MaxPooling2D)  (None, 14, 14, 512)       0         \n",
      "                                                                 \n",
      " block5_conv1 (Conv2D)       (None, 14, 14, 512)       2359808   \n",
      "                                                                 \n",
      " block5_conv2 (Conv2D)       (None, 14, 14, 512)       2359808   \n",
      "                                                                 \n",
      " block5_conv3 (Conv2D)       (None, 14, 14, 512)       2359808   \n",
      "                                                                 \n",
      " block5_pool (MaxPooling2D)  (None, 7, 7, 512)         0         \n",
      "                                                                 \n",
      "=================================================================\n",
      "Total params: 14,714,688\n",
      "Trainable params: 14,714,688\n",
      "Non-trainable params: 0\n",
      "_________________________________________________________________\n"
     ]
    }
   ],
   "source": [
    "model_VGG16.summary()"
   ]
  },
  {
   "cell_type": "markdown",
   "id": "5b7dfafb-7372-4231-ba19-f9c4d73f8149",
   "metadata": {},
   "source": [
    "### Lock the layers of the VGG16 model"
   ]
  },
  {
   "cell_type": "markdown",
   "id": "8be3dd95-5498-4730-bb26-a1b6d34feec6",
   "metadata": {},
   "source": [
    "We need to preserve the training of the initial model"
   ]
  },
  {
   "cell_type": "code",
   "execution_count": 11,
   "id": "454ca907-1f68-4887-a79b-b7479c8b529b",
   "metadata": {},
   "outputs": [],
   "source": [
    "def set_nontrainable_layers(model):\n",
    "\n",
    "    model.trainable = False\n",
    "    \n",
    "    return model"
   ]
  },
  {
   "cell_type": "code",
   "execution_count": 12,
   "id": "e6ab7c0d-243a-43c3-82db-5f42c4164bef",
   "metadata": {},
   "outputs": [],
   "source": [
    "model_VGG16_snl = set_nontrainable_layers(model_VGG16)"
   ]
  },
  {
   "cell_type": "code",
   "execution_count": 13,
   "id": "67645818-2473-46d6-9aaf-57f1f3a4711c",
   "metadata": {},
   "outputs": [
    {
     "name": "stdout",
     "output_type": "stream",
     "text": [
      "Model: \"vgg16\"\n",
      "_________________________________________________________________\n",
      " Layer (type)                Output Shape              Param #   \n",
      "=================================================================\n",
      " input_1 (InputLayer)        [(None, 224, 224, 3)]     0         \n",
      "                                                                 \n",
      " block1_conv1 (Conv2D)       (None, 224, 224, 64)      1792      \n",
      "                                                                 \n",
      " block1_conv2 (Conv2D)       (None, 224, 224, 64)      36928     \n",
      "                                                                 \n",
      " block1_pool (MaxPooling2D)  (None, 112, 112, 64)      0         \n",
      "                                                                 \n",
      " block2_conv1 (Conv2D)       (None, 112, 112, 128)     73856     \n",
      "                                                                 \n",
      " block2_conv2 (Conv2D)       (None, 112, 112, 128)     147584    \n",
      "                                                                 \n",
      " block2_pool (MaxPooling2D)  (None, 56, 56, 128)       0         \n",
      "                                                                 \n",
      " block3_conv1 (Conv2D)       (None, 56, 56, 256)       295168    \n",
      "                                                                 \n",
      " block3_conv2 (Conv2D)       (None, 56, 56, 256)       590080    \n",
      "                                                                 \n",
      " block3_conv3 (Conv2D)       (None, 56, 56, 256)       590080    \n",
      "                                                                 \n",
      " block3_pool (MaxPooling2D)  (None, 28, 28, 256)       0         \n",
      "                                                                 \n",
      " block4_conv1 (Conv2D)       (None, 28, 28, 512)       1180160   \n",
      "                                                                 \n",
      " block4_conv2 (Conv2D)       (None, 28, 28, 512)       2359808   \n",
      "                                                                 \n",
      " block4_conv3 (Conv2D)       (None, 28, 28, 512)       2359808   \n",
      "                                                                 \n",
      " block4_pool (MaxPooling2D)  (None, 14, 14, 512)       0         \n",
      "                                                                 \n",
      " block5_conv1 (Conv2D)       (None, 14, 14, 512)       2359808   \n",
      "                                                                 \n",
      " block5_conv2 (Conv2D)       (None, 14, 14, 512)       2359808   \n",
      "                                                                 \n",
      " block5_conv3 (Conv2D)       (None, 14, 14, 512)       2359808   \n",
      "                                                                 \n",
      " block5_pool (MaxPooling2D)  (None, 7, 7, 512)         0         \n",
      "                                                                 \n",
      "=================================================================\n",
      "Total params: 14,714,688\n",
      "Trainable params: 0\n",
      "Non-trainable params: 14,714,688\n",
      "_________________________________________________________________\n"
     ]
    }
   ],
   "source": [
    "model_VGG16_snl.summary()"
   ]
  },
  {
   "cell_type": "markdown",
   "id": "83a15149-90d4-4242-830d-ace192c7c204",
   "metadata": {},
   "source": [
    "### Transfer learning + regularizers"
   ]
  },
  {
   "cell_type": "code",
   "execution_count": 46,
   "id": "d751ad37-5499-4ee0-adff-5f415191705f",
   "metadata": {},
   "outputs": [],
   "source": [
    "def add_last_layers(model):\n",
    "    '''Take a pre-trained model, set its parameters as non-trainable, and add additional trainable layers on top, + regularizers'''\n",
    "    reg = regularizers.l1_l2(l2=0.005)\n",
    "    flattening_layer = layers.Flatten()\n",
    "    dense_layer = layers.Dense(512, activation='relu', kernel_regularizer=reg)\n",
    "    dropout_layer = layers.Dropout(0.5)\n",
    "    prediction_layer = layers.Dense(6, activation='softmax')\n",
    "\n",
    "    final_model = Sequential([\n",
    "        model,\n",
    "        flattening_layer,\n",
    "        dense_layer,\n",
    "        dropout_layer,\n",
    "        prediction_layer\n",
    "    ]) \n",
    "    \n",
    "    return final_model"
   ]
  },
  {
   "cell_type": "code",
   "execution_count": 47,
   "id": "0641e638-50b4-48e1-9710-ab0bae7d8221",
   "metadata": {},
   "outputs": [],
   "source": [
    "customized_VGG16 = add_last_layers(model_VGG16_snl)"
   ]
  },
  {
   "cell_type": "code",
   "execution_count": 48,
   "id": "c6855aa2-5039-4893-b39c-043d2da246a1",
   "metadata": {},
   "outputs": [
    {
     "name": "stdout",
     "output_type": "stream",
     "text": [
      "Model: \"sequential_1\"\n",
      "_________________________________________________________________\n",
      " Layer (type)                Output Shape              Param #   \n",
      "=================================================================\n",
      " vgg16 (Functional)          (None, 7, 7, 512)         14714688  \n",
      "                                                                 \n",
      " flatten_1 (Flatten)         (None, 25088)             0         \n",
      "                                                                 \n",
      " dense_2 (Dense)             (None, 512)               12845568  \n",
      "                                                                 \n",
      " dropout_1 (Dropout)         (None, 512)               0         \n",
      "                                                                 \n",
      " dense_3 (Dense)             (None, 6)                 3078      \n",
      "                                                                 \n",
      "=================================================================\n",
      "Total params: 27,563,334\n",
      "Trainable params: 12,848,646\n",
      "Non-trainable params: 14,714,688\n",
      "_________________________________________________________________\n"
     ]
    }
   ],
   "source": [
    "customized_VGG16.summary()"
   ]
  },
  {
   "cell_type": "markdown",
   "id": "c6ae856a-fc59-4952-9c04-ed170719a0a9",
   "metadata": {},
   "source": [
    "### Compiling the model"
   ]
  },
  {
   "cell_type": "code",
   "execution_count": 49,
   "id": "3014b5c4-2dae-41cf-b552-508ab1a65269",
   "metadata": {},
   "outputs": [],
   "source": [
    "def build_model():\n",
    "  adam = optimizers.Adam(learning_rate=1e-4)\n",
    "  customized_VGG16.compile(\n",
    "    loss='categorical_crossentropy',\n",
    "    optimizer=adam,\n",
    "    metrics=['accuracy']\n",
    "  )\n",
    "\n",
    "  return customized_VGG16"
   ]
  },
  {
   "cell_type": "code",
   "execution_count": 50,
   "id": "8b7ff50b-0d46-4412-a541-b6ff59f92695",
   "metadata": {},
   "outputs": [],
   "source": [
    "builded_VGG16 = build_model()"
   ]
  },
  {
   "cell_type": "code",
   "execution_count": 51,
   "id": "2f19e296-4f4d-4712-b944-2a951ee7dc1a",
   "metadata": {},
   "outputs": [
    {
     "name": "stdout",
     "output_type": "stream",
     "text": [
      "Model: \"sequential_1\"\n",
      "_________________________________________________________________\n",
      " Layer (type)                Output Shape              Param #   \n",
      "=================================================================\n",
      " vgg16 (Functional)          (None, 7, 7, 512)         14714688  \n",
      "                                                                 \n",
      " flatten_1 (Flatten)         (None, 25088)             0         \n",
      "                                                                 \n",
      " dense_2 (Dense)             (None, 512)               12845568  \n",
      "                                                                 \n",
      " dropout_1 (Dropout)         (None, 512)               0         \n",
      "                                                                 \n",
      " dense_3 (Dense)             (None, 6)                 3078      \n",
      "                                                                 \n",
      "=================================================================\n",
      "Total params: 27,563,334\n",
      "Trainable params: 12,848,646\n",
      "Non-trainable params: 14,714,688\n",
      "_________________________________________________________________\n"
     ]
    }
   ],
   "source": [
    "builded_VGG16.summary()"
   ]
  },
  {
   "cell_type": "markdown",
   "id": "fb3cf2b9-9f72-4c99-90d4-cd6b1c565d66",
   "metadata": {},
   "source": [
    "### Process the data"
   ]
  },
  {
   "cell_type": "code",
   "execution_count": 52,
   "id": "83074630-61c5-4fdb-af7a-65d62d1bd876",
   "metadata": {},
   "outputs": [],
   "source": [
    "from tensorflow.keras.applications.vgg16 import preprocess_input"
   ]
  },
  {
   "cell_type": "code",
   "execution_count": 53,
   "id": "c6c555fa-20b7-425c-815e-4cf373720d74",
   "metadata": {},
   "outputs": [],
   "source": [
    "X_train_preproc = preprocess_input(X_train)\n",
    "X_test_preproc = preprocess_input(X_test)\n",
    "X_val_preproc = preprocess_input(X_val)"
   ]
  },
  {
   "cell_type": "markdown",
   "id": "2635f91b-4a06-4eea-b1ae-2e82288db673",
   "metadata": {},
   "source": [
    "### Fit the model"
   ]
  },
  {
   "cell_type": "code",
   "execution_count": 54,
   "id": "45fcfce3-bbcc-4058-815e-fe0c9b9f7d3b",
   "metadata": {},
   "outputs": [],
   "source": [
    "from tensorflow.keras.callbacks import EarlyStopping"
   ]
  },
  {
   "cell_type": "code",
   "execution_count": 55,
   "id": "e6843132-6aeb-49bf-94e6-92792999bfb7",
   "metadata": {},
   "outputs": [],
   "source": [
    "es = EarlyStopping(patience=10, restore_best_weights=True)"
   ]
  },
  {
   "cell_type": "code",
   "execution_count": 24,
   "id": "835e9ff4-e6fd-44ec-903f-8a6107f82715",
   "metadata": {},
   "outputs": [
    {
     "name": "stdout",
     "output_type": "stream",
     "text": [
      "Epoch 1/5\n"
     ]
    },
    {
     "name": "stderr",
     "output_type": "stream",
     "text": [
      "2024-03-12 11:43:47.718905: W tensorflow/core/platform/profile_utils/cpu_utils.cc:128] Failed to get CPU frequency: 0 Hz\n"
     ]
    },
    {
     "name": "stdout",
     "output_type": "stream",
     "text": [
      "17/17 [==============================] - 136s 8s/step - loss: 7.4793 - accuracy: 0.4740 - val_loss: 3.2216 - val_accuracy: 0.6972\n",
      "Epoch 2/5\n",
      "17/17 [==============================] - 124s 7s/step - loss: 1.0882 - accuracy: 0.8603 - val_loss: 2.7792 - val_accuracy: 0.7248\n",
      "Epoch 3/5\n",
      "17/17 [==============================] - 128s 8s/step - loss: 0.4760 - accuracy: 0.9171 - val_loss: 2.4080 - val_accuracy: 0.7645\n",
      "Epoch 4/5\n",
      "17/17 [==============================] - 136s 8s/step - loss: 0.1860 - accuracy: 0.9615 - val_loss: 2.2896 - val_accuracy: 0.7737\n",
      "Epoch 5/5\n",
      "17/17 [==============================] - 147s 9s/step - loss: 0.0686 - accuracy: 0.9827 - val_loss: 2.2108 - val_accuracy: 0.7706\n"
     ]
    }
   ],
   "source": [
    "history = builded_VGG16.fit(\n",
    "    X_train_preproc, y_train,\n",
    "    batch_size = 64,\n",
    "    epochs = 5,\n",
    "    verbose=1,\n",
    "    callbacks=[es],\n",
    "    validation_data=(X_val_preproc, y_val)\n",
    ")"
   ]
  },
  {
   "cell_type": "code",
   "execution_count": 58,
   "id": "52796fa6-e230-44f3-ae52-311b22f4d5a8",
   "metadata": {},
   "outputs": [
    {
     "name": "stdout",
     "output_type": "stream",
     "text": [
      "Epoch 1/15\n",
      "17/17 [==============================] - 129s 8s/step - loss: 466.9058 - accuracy: 0.9711 - val_loss: 424.1736 - val_accuracy: 0.7676\n",
      "Epoch 2/15\n",
      "17/17 [==============================] - 120s 7s/step - loss: 389.7009 - accuracy: 0.9750 - val_loss: 352.0122 - val_accuracy: 0.7737\n",
      "Epoch 3/15\n",
      "17/17 [==============================] - 119s 7s/step - loss: 322.2397 - accuracy: 0.9682 - val_loss: 290.2584 - val_accuracy: 0.7798\n",
      "Epoch 4/15\n",
      "17/17 [==============================] - 120s 7s/step - loss: 265.2240 - accuracy: 0.9740 - val_loss: 239.3058 - val_accuracy: 0.7798\n",
      "Epoch 5/15\n",
      "17/17 [==============================] - 119s 7s/step - loss: 218.9799 - accuracy: 0.9778 - val_loss: 198.2123 - val_accuracy: 0.7951\n",
      "Epoch 6/15\n",
      "17/17 [==============================] - 121s 7s/step - loss: 181.3257 - accuracy: 0.9701 - val_loss: 164.7192 - val_accuracy: 0.7615\n",
      "Epoch 7/15\n",
      "17/17 [==============================] - 119s 7s/step - loss: 150.4224 - accuracy: 0.9759 - val_loss: 136.7532 - val_accuracy: 0.7584\n",
      "Epoch 8/15\n",
      "17/17 [==============================] - 120s 7s/step - loss: 124.7955 - accuracy: 0.9769 - val_loss: 113.6329 - val_accuracy: 0.7859\n",
      "Epoch 9/15\n",
      "17/17 [==============================] - 124s 7s/step - loss: 103.7261 - accuracy: 0.9807 - val_loss: 94.6998 - val_accuracy: 0.7737\n",
      "Epoch 10/15\n",
      "17/17 [==============================] - 124s 7s/step - loss: 86.3697 - accuracy: 0.9740 - val_loss: 79.1738 - val_accuracy: 0.7706\n",
      "Epoch 11/15\n",
      "17/17 [==============================] - 131s 8s/step - loss: 72.2608 - accuracy: 0.9682 - val_loss: 66.5653 - val_accuracy: 0.7768\n",
      "Epoch 12/15\n",
      "17/17 [==============================] - 128s 8s/step - loss: 60.8311 - accuracy: 0.9721 - val_loss: 56.5036 - val_accuracy: 0.7859\n",
      "Epoch 13/15\n",
      "17/17 [==============================] - 131s 8s/step - loss: 52.1515 - accuracy: 0.9586 - val_loss: 48.9152 - val_accuracy: 0.7798\n",
      "Epoch 14/15\n",
      "17/17 [==============================] - 123s 7s/step - loss: 44.3858 - accuracy: 0.9615 - val_loss: 41.3752 - val_accuracy: 0.7859\n",
      "Epoch 15/15\n",
      "17/17 [==============================] - 124s 7s/step - loss: 37.4351 - accuracy: 0.9701 - val_loss: 34.8632 - val_accuracy: 0.7798\n"
     ]
    }
   ],
   "source": [
    "history = builded_VGG16.fit(\n",
    "    X_train_preproc, y_train,\n",
    "    batch_size = 64,\n",
    "    epochs = 15,\n",
    "    verbose=1,\n",
    "    callbacks=[es],\n",
    "    validation_data=(X_val_preproc, y_val)\n",
    ")"
   ]
  },
  {
   "cell_type": "markdown",
   "id": "d5a76b44-ee95-42ec-8fd3-5e79623271e5",
   "metadata": {},
   "source": [
    "### Learning Curves"
   ]
  },
  {
   "cell_type": "code",
   "execution_count": 25,
   "id": "9f236a02-5673-4638-9af4-bba90c7c8320",
   "metadata": {},
   "outputs": [],
   "source": [
    "import matplotlib.pyplot as plt"
   ]
  },
  {
   "cell_type": "code",
   "execution_count": 26,
   "id": "f2aab3b6-acdd-4456-92be-e426ad5f2e86",
   "metadata": {},
   "outputs": [],
   "source": [
    "def plot_history(history, title='', axs=None, exp_name=\"\"):\n",
    "    if axs is not None:\n",
    "        ax1, ax2 = axs\n",
    "    else:\n",
    "        f, (ax1, ax2) = plt.subplots(1, 2, figsize=(12, 4))\n",
    "\n",
    "    if len(exp_name) > 0 and exp_name[0] != '_':\n",
    "        exp_name = '_' + exp_name\n",
    "    ax1.plot(history.history['loss'], label='train' + exp_name)\n",
    "    ax1.plot(history.history['val_loss'], label='val' + exp_name)\n",
    "    #ax1.set_ylim(0., 2.2)\n",
    "    ax1.set_title('loss')\n",
    "    ax1.legend()\n",
    "\n",
    "    ax2.plot(history.history['accuracy'], label='train accuracy'  + exp_name)\n",
    "    ax2.plot(history.history['val_accuracy'], label='val accuracy'  + exp_name)\n",
    "    #ax2.set_ylim(0.25, 1.)\n",
    "    ax2.set_title('Accuracy')\n",
    "    ax2.legend()\n",
    "    return (ax1, ax2)"
   ]
  },
  {
   "cell_type": "code",
   "execution_count": 27,
   "id": "ee10be8e-e3ce-4795-8c2b-2275cacbadb8",
   "metadata": {},
   "outputs": [
    {
     "data": {
      "text/plain": [
       "(<Axes: title={'center': 'loss'}>, <Axes: title={'center': 'Accuracy'}>)"
      ]
     },
     "execution_count": 27,
     "metadata": {},
     "output_type": "execute_result"
    },
    {
     "data": {
      "image/png": "[encoded data removed]",
      "text/plain": [
       "<Figure size 1200x400 with 2 Axes>"
      ]
     },
     "metadata": {},
     "output_type": "display_data"
    }
   ],
   "source": [
    "plot_history(history)"
   ]
  },
  {
   "cell_type": "code",
   "execution_count": 59,
   "id": "d1a97ef0-3ee0-494f-80fb-ac9c7d61455d",
   "metadata": {},
   "outputs": [
    {
     "data": {
      "text/plain": [
       "(<Axes: title={'center': 'loss'}>, <Axes: title={'center': 'Accuracy'}>)"
      ]
     },
     "execution_count": 59,
     "metadata": {},
     "output_type": "execute_result"
    },
    {
     "data": {
      "image/png": "[encoded data removed]",
      "text/plain": [
       "<Figure size 1200x400 with 2 Axes>"
      ]
     },
     "metadata": {},
     "output_type": "display_data"
    }
   ],
   "source": [
    "plot_history(history)"
   ]
  },
  {
   "cell_type": "markdown",
   "id": "3ce8cb72-c623-43e3-b493-17c86c50021c",
   "metadata": {},
   "source": [
    "### Evaluate the model"
   ]
  },
  {
   "cell_type": "code",
   "execution_count": 28,
   "id": "ad0bd1df-2977-4e94-8715-0b8207d60118",
   "metadata": {},
   "outputs": [
    {
     "name": "stdout",
     "output_type": "stream",
     "text": [
      "9/9 [==============================] - 29s 3s/step - loss: 2.0226 - accuracy: 0.7537\n"
     ]
    },
    {
     "data": {
      "text/plain": [
       "[2.0225772857666016, 0.7536764740943909]"
      ]
     },
     "execution_count": 28,
     "metadata": {},
     "output_type": "execute_result"
    }
   ],
   "source": [
    "builded_VGG16.evaluate(X_test_preproc, y_test)"
   ]
  },
  {
   "cell_type": "code",
   "execution_count": 60,
   "id": "80e05c69-8d35-472e-891f-ddc0009c44a6",
   "metadata": {},
   "outputs": [
    {
     "name": "stdout",
     "output_type": "stream",
     "text": [
      "9/9 [==============================] - 25s 3s/step - loss: 34.7872 - accuracy: 0.7868\n"
     ]
    },
    {
     "data": {
      "text/plain": [
       "[34.78724670410156, 0.7867646813392639]"
      ]
     },
     "execution_count": 60,
     "metadata": {},
     "output_type": "execute_result"
    }
   ],
   "source": [
    "builded_VGG16.evaluate(X_test_preproc, y_test)"
   ]
  },
  {
   "cell_type": "markdown",
   "id": "c2c61976-9de2-4a78-ba97-8df169595919",
   "metadata": {},
   "source": [
    "### Make predictions"
   ]
  },
  {
   "cell_type": "code",
   "execution_count": 61,
   "id": "db8e160e-62f5-44d0-a01f-f9b8c00ede61",
   "metadata": {},
   "outputs": [],
   "source": [
    "from tensorflow.keras.preprocessing.image import load_img, img_to_array\n",
    "from tensorflow.keras.applications.vgg16 import preprocess_input\n",
    "import numpy as np"
   ]
  },
  {
   "cell_type": "markdown",
   "id": "1a51b4df-ae89-424d-a185-06818c2d27f2",
   "metadata": {},
   "source": [
    "#### Trash predicting"
   ]
  },
  {
   "cell_type": "code",
   "execution_count": 66,
   "id": "39c4d9f5-ae04-4607-91cf-8a5a7a7e8ead",
   "metadata": {},
   "outputs": [
    {
     "name": "stdout",
     "output_type": "stream",
     "text": [
      "1/1 [==============================] - 0s 170ms/step\n",
      "\n",
      " Prediction :\n",
      "trash : 0.57\n",
      "glass : 0.43\n",
      "paper : 0.0\n",
      "cardboard : 0.0\n",
      "plastic : 0.0\n",
      "metal : 0.0\n"
     ]
    },
    {
     "data": {
      "image/png": "[encoded data removed]",
      "text/plain": [
       "<Figure size 640x480 with 1 Axes>"
      ]
     },
     "metadata": {},
     "output_type": "display_data"
    }
   ],
   "source": [
    "img_path = '../data/raw_data/kaggle_data/Garbage classification/Garbage classification/trash/trash40.jpg'\n",
    "img = load_img(img_path, target_size=(224, 224))\n",
    "x = img_to_array(img)\n",
    "x = np.expand_dims(x, axis=0)\n",
    "x = preprocess_input(x)\n",
    "\n",
    "predictions = builded_VGG16.predict(x)\n",
    "\n",
    "classes = ['trash', 'glass', 'paper', 'cardboard', 'plastic', 'metal']\n",
    "\n",
    "plt.imshow(img)\n",
    "print('\\n Prediction :')\n",
    "for i in range(6):\n",
    "    print(f'{classes[i]} : {round(float(predictions[0][i]), 2)}')"
   ]
  },
  {
   "cell_type": "code",
   "execution_count": null,
   "id": "cc4b5ae6-23bd-4d9a-a450-8ca421fda20c",
   "metadata": {},
   "outputs": [],
   "source": []
  }
 ],
 "metadata": {
  "kernelspec": {
   "display_name": "Python 3 (ipykernel)",
   "language": "python",
   "name": "python3"
  },
  "language_info": {
   "codemirror_mode": {
    "name": "ipython",
    "version": 3
   },
   "file_extension": ".py",
   "mimetype": "text/x-python",
   "name": "python",
   "nbconvert_exporter": "python",
   "pygments_lexer": "ipython3",
   "version": "3.10.6"
  }
 },
 "nbformat": 4,
 "nbformat_minor": 5
}
